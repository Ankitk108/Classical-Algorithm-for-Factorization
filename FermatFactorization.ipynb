{
 "cells": [
  {
   "cell_type": "code",
   "execution_count": null,
   "metadata": {},
   "outputs": [],
   "source": [
    "import math\n",
    "import random\n",
    "from MillerRabinPrimality import miller_rabin"
   ]
  },
  {
   "cell_type": "markdown",
   "metadata": {},
   "source": [
    "Fermat Factorization"
   ]
  },
  {
   "cell_type": "code",
   "execution_count": null,
   "metadata": {},
   "outputs": [],
   "source": [
    "def is_perfect_square(num):\n",
    "    \"\"\"Check if a number is a perfect square.\"\"\"\n",
    "    sqrt_num = int(math.sqrt(num))\n",
    "    return sqrt_num * sqrt_num == num\n",
    "\n",
    "def fermat_factorization(n):\n",
    "    \"\"\"Fermat's Factorization Method.\"\"\"\n",
    "    x = math.ceil(math.sqrt(n))\n",
    "    while True:\n",
    "        y2 = x * x - n\n",
    "        if is_perfect_square(y2):\n",
    "            y = int(math.sqrt(y2))\n",
    "            return (x + y, x - y)\n",
    "        x += 1\n",
    "\n",
    "\n",
    "n=2173\n",
    "print(f'Factors of {n} are {fermat_factorization(n)}')"
   ]
  },
  {
   "cell_type": "markdown",
   "metadata": {},
   "source": [
    "Improved Fermat Factorization"
   ]
  },
  {
   "cell_type": "code",
   "execution_count": null,
   "metadata": {},
   "outputs": [],
   "source": [
    "import math\n",
    "\n",
    "def improved_fermat_factorization(n):\n",
    "    \"\"\"Improved Fermat's Factorization Method.\"\"\"\n",
    "    if n <= 1:\n",
    "        return []  # Base case: No factors for n <= 1\n",
    "    \n",
    "    factors = []\n",
    "\n",
    "    # Step 1: Handle even factors\n",
    "    while n % 2 == 0:\n",
    "        n //= 2\n",
    "        factors.append(2)\n",
    "\n",
    "    # Step 2: Start Fermat's Factorization for odd n\n",
    "    while n > 1:\n",
    "        if miller_rabin(n):  # If n is prime, add it to factors and stop\n",
    "            factors.append(n)\n",
    "            break\n",
    "        \n",
    "        x = math.ceil(math.sqrt(n))\n",
    "        while True:\n",
    "            y2 = x * x - n\n",
    "            if y2 >= 0 and is_perfect_square(y2):  # Check if y2 is a perfect square\n",
    "                y = int(math.sqrt(y2))\n",
    "                factor1, factor2 = x + y, x - y\n",
    "                if factor1 > 1:\n",
    "                    factors += improved_fermat_factorization(factor1)\n",
    "                if factor2 > 1:\n",
    "                    factors += improved_fermat_factorization(factor2)\n",
    "                n = 1  # Exit the loop once factorization is complete\n",
    "                break\n",
    "            x += 1\n",
    "\n",
    "    return factors\n",
    "\n",
    "# Example usage\n",
    "n = 2172\n",
    "print(f'Factors of {n} are {improved_fermat_factorization(n)}')\n"
   ]
  },
  {
   "cell_type": "markdown",
   "metadata": {},
   "source": [
    "Generalized Fermat’s Factorization Method"
   ]
  },
  {
   "cell_type": "code",
   "execution_count": null,
   "metadata": {},
   "outputs": [],
   "source": [
    "def generalized_fermat_factorization(n, k=2):\n",
    "    \"\"\"Generalized Fermat's Factorization Method.\"\"\"\n",
    "    if k == 0:\n",
    "        k = random.randint(0, n - 1)\n",
    "    a = math.ceil(math.sqrt(n + k))\n",
    "    while True:\n",
    "        b2 = a * a - n\n",
    "        if is_perfect_square(b2):\n",
    "            b = int(math.sqrt(b2))\n",
    "            p = math.gcd(a + b, n)\n",
    "            q = math.gcd(a - b, n)\n",
    "            return (p, q)\n",
    "        a += 1\n",
    "        \n",
    "# Example usage\n",
    "n = 2172\n",
    "print(f'Factors of {n} are {generalized_fermat_factorization(n)}')"
   ]
  },
  {
   "cell_type": "markdown",
   "metadata": {},
   "source": [
    "Improved Generalized Fermat Factorization Method Complete\n",
    "Factorization"
   ]
  },
  {
   "cell_type": "code",
   "execution_count": null,
   "metadata": {},
   "outputs": [],
   "source": [
    "def Improved_Generalised_Fermat(n, k=None):\n",
    "    factors = []\n",
    "    \n",
    "    while n % 2 == 0:\n",
    "        n //= 2\n",
    "        factors.append(2)\n",
    "\n",
    "    if n > 1 and miller_rabin(n):\n",
    "        factors.append(n)\n",
    "        return factors\n",
    "    while n > 1:\n",
    "        if k is None:\n",
    "            k = random.randint(1, n - 1)\n",
    "        a = math.ceil(math.sqrt(n + k))\n",
    "        while True:\n",
    "            b2 = a * a - n\n",
    "            if is_perfect_square(b2):\n",
    "                b = int(math.sqrt(b2))\n",
    "                factor1 = math.gcd(a + b, n)\n",
    "                factor2 = math.gcd(a - b, n)\n",
    "                if miller_rabin(factor1):\n",
    "                    factors.append(factor1)\n",
    "                else:\n",
    "                    factors += Improved_Generalised_Fermat(factor1)\n",
    "                if miller_rabin(factor2):\n",
    "                    factors.append(factor2)\n",
    "                else:\n",
    "                    factors += Improved_Generalised_Fermat(factor2)\n",
    "                break\n",
    "            a += 1\n",
    "        n //= factor1 * factor2\n",
    "    return factors\n",
    "\n",
    "print(f'Factors of {n} are {Improved_Generalised_Fermat(n)}')"
   ]
  }
 ],
 "metadata": {
  "kernelspec": {
   "display_name": "Python 3",
   "language": "python",
   "name": "python3"
  },
  "language_info": {
   "codemirror_mode": {
    "name": "ipython",
    "version": 3
   },
   "file_extension": ".py",
   "mimetype": "text/x-python",
   "name": "python",
   "nbconvert_exporter": "python",
   "pygments_lexer": "ipython3",
   "version": "3.11.9"
  }
 },
 "nbformat": 4,
 "nbformat_minor": 2
}
