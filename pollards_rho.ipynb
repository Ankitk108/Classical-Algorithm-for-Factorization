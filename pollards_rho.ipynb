{
 "cells": [
  {
   "cell_type": "code",
   "execution_count": null,
   "metadata": {},
   "outputs": [],
   "source": [
    "import random\n",
    "import math\n",
    "from MillerRabinPrimality import miller_rabin"
   ]
  },
  {
   "cell_type": "markdown",
   "metadata": {},
   "source": [
    "Pollard Rho Algorithium"
   ]
  },
  {
   "cell_type": "code",
   "execution_count": null,
   "metadata": {},
   "outputs": [],
   "source": [
    "def pollards_rho(n, k=1):\n",
    "    \"\"\"Pollard's Rho Algorithm for integer factorization.\"\"\"\n",
    "    if k == -1:  # Randomize if k is -1\n",
    "        k = random.randint(1, n-1)\n",
    "\n",
    "    if n % 2 == 0:\n",
    "        return 2, n // 2\n",
    "\n",
    "    # Define the polynomial function\n",
    "    def f(x):\n",
    "        return (x**2 + k) % n\n",
    "\n",
    "    x, y, d = random.randint(1, n-1), random.randint(1, n-1), 1\n",
    "    while d == 1:\n",
    "        x = f(x)\n",
    "        y = f(f(y))\n",
    "        d = math.gcd(abs(x - y), n)\n",
    "        if d == n:\n",
    "            return pollards_rho(n, k=random.randint(1, n-1))  # Retry with new parameters\n",
    "    factor2 = n // d\n",
    "    return d, factor2\n",
    "\n",
    "n = 8051\n",
    "print(f'Factors of {n} are {pollards_rho(n)}')"
   ]
  },
  {
   "cell_type": "markdown",
   "metadata": {},
   "source": [
    "Improved Pollard Rho Algorithium"
   ]
  },
  {
   "cell_type": "code",
   "execution_count": null,
   "metadata": {},
   "outputs": [],
   "source": [
    "def pollards_rho_improved(n, k=1):\n",
    "    \"\"\"Improved Pollard's Rho Algorithm with recursive factorization.\"\"\"\n",
    "\n",
    "    if k == -1:  # Randomize if k is -1\n",
    "        k = random.randint(1, n-1)\n",
    "    \n",
    "    if n <= 1:\n",
    "        return []\n",
    "    if miller_rabin(n):  # Use predefined Miller-Rabin Test\n",
    "        return [n]\n",
    "\n",
    "    # Define the polynomial function\n",
    "    def f(x):\n",
    "        return (x**2 + k) % n\n",
    "\n",
    "    x, y, d = random.randint(1, n - 1), random.randint(1, n - 1), 1\n",
    "    while d == 1:\n",
    "        x = f(x)\n",
    "        y = f(f(y))\n",
    "        d = math.gcd(abs(x - y), n)\n",
    "        if d == n:\n",
    "            # Retry with different parameters\n",
    "            return pollards_rho_improved(n)\n",
    "\n",
    "    # Recursive factorization for complete prime factorization\n",
    "    factors = pollards_rho_improved(d) + pollards_rho_improved(n // d)\n",
    "    return sorted(factors)\n",
    "\n",
    "n = 8051\n",
    "print(f'Factors of {n} are {pollards_rho(n)}')"
   ]
  }
 ],
 "metadata": {
  "kernelspec": {
   "display_name": "Python 3",
   "language": "python",
   "name": "python3"
  },
  "language_info": {
   "codemirror_mode": {
    "name": "ipython",
    "version": 3
   },
   "file_extension": ".py",
   "mimetype": "text/x-python",
   "name": "python",
   "nbconvert_exporter": "python",
   "pygments_lexer": "ipython3",
   "version": "3.11.9"
  }
 },
 "nbformat": 4,
 "nbformat_minor": 2
}
