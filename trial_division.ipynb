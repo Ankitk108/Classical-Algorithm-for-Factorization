{
 "cells": [
  {
   "cell_type": "code",
   "execution_count": null,
   "metadata": {},
   "outputs": [],
   "source": [
    "from MillerRabinPrimality import miller_rabin\n",
    "from Manage_Primes import get_primes_up_to_sqrt"
   ]
  },
  {
   "cell_type": "markdown",
   "metadata": {},
   "source": [
    "Trial Division"
   ]
  },
  {
   "cell_type": "code",
   "execution_count": null,
   "metadata": {},
   "outputs": [],
   "source": [
    "\n",
    "def trial_division(n):\n",
    "    factors = []\n",
    "    for p in range(2, int(n**0.5) + 1):\n",
    "        while n % p == 0:\n",
    "            factors.append(p)\n",
    "            n //= p\n",
    "    if n > 1:\n",
    "        factors.append(n)\n",
    "    return factors\n",
    "\n",
    "n=2121\n",
    "print(f'Factors of {n} are {trial_division(n)}')"
   ]
  },
  {
   "cell_type": "markdown",
   "metadata": {},
   "source": [
    "Improved Trial Division"
   ]
  },
  {
   "cell_type": "code",
   "execution_count": null,
   "metadata": {},
   "outputs": [],
   "source": [
    "\n",
    "def trial_division_with_miller_rabin(n):\n",
    "    \"\"\"Trial division algorithm enhanced with Miller-Rabin test and dynamic prime list.\"\"\"\n",
    "    # Check if the number is prime using Miller-Rabin\n",
    "    if miller_rabin(n):\n",
    "        return [n]\n",
    "    \n",
    "    primes = get_primes_up_to_sqrt(n)\n",
    "    factors = []\n",
    "    \n",
    "    for p in primes:\n",
    "        while n % p == 0:\n",
    "            factors.append(p)\n",
    "            n //= p\n",
    "    \n",
    "    if n > 1:\n",
    "        factors.append(n)\n",
    "    \n",
    "    return factors\n",
    "\n",
    "n=212154\n",
    "print(f'Factors of {n} are {trial_division_with_miller_rabin(n)}')"
   ]
  }
 ],
 "metadata": {
  "kernelspec": {
   "display_name": "Python 3",
   "language": "python",
   "name": "python3"
  },
  "language_info": {
   "codemirror_mode": {
    "name": "ipython",
    "version": 3
   },
   "file_extension": ".py",
   "mimetype": "text/x-python",
   "name": "python",
   "nbconvert_exporter": "python",
   "pygments_lexer": "ipython3",
   "version": "3.11.9"
  }
 },
 "nbformat": 4,
 "nbformat_minor": 2
}
